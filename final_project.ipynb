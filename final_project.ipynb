{
 "cells": [
  {
   "cell_type": "markdown",
   "metadata": {},
   "source": [
    "# Numerical Optimization with Python - Final Project"
   ]
  },
  {
   "cell_type": "markdown",
   "metadata": {},
   "source": [
    "## Optimizing a power generation schedule"
   ]
  },
  {
   "cell_type": "markdown",
   "metadata": {},
   "source": []
  },
  {
   "cell_type": "code",
   "execution_count": 3,
   "metadata": {},
   "outputs": [
    {
     "name": "stdout",
     "output_type": "stream",
     "text": [
      "Note: you may need to restart the kernel to use updated packages.\n",
      "Requirement already satisfied: networkx in c:\\users\\fajnk\\appdata\\local\\programs\\python\\python312\\lib\\site-packages (3.3)\n",
      "Requirement already satisfied: seaborn in c:\\users\\fajnk\\appdata\\local\\programs\\python\\python312\\lib\\site-packages (0.13.2)\n",
      "Requirement already satisfied: pandas in c:\\users\\fajnk\\appdata\\local\\programs\\python\\python312\\lib\\site-packages (2.2.1)\n",
      "Requirement already satisfied: numpy in c:\\users\\fajnk\\appdata\\local\\programs\\python\\python312\\lib\\site-packages (1.26.4)\n",
      "Requirement already satisfied: gurobipy in c:\\users\\fajnk\\appdata\\local\\programs\\python\\python312\\lib\\site-packages (11.0.2)\n",
      "Requirement already satisfied: matplotlib!=3.6.1,>=3.4 in c:\\users\\fajnk\\appdata\\local\\programs\\python\\python312\\lib\\site-packages (from seaborn) (3.8.3)\n",
      "Requirement already satisfied: python-dateutil>=2.8.2 in c:\\users\\fajnk\\appdata\\roaming\\python\\python312\\site-packages (from pandas) (2.9.0.post0)\n",
      "Requirement already satisfied: pytz>=2020.1 in c:\\users\\fajnk\\appdata\\local\\programs\\python\\python312\\lib\\site-packages (from pandas) (2024.1)\n",
      "Requirement already satisfied: tzdata>=2022.7 in c:\\users\\fajnk\\appdata\\local\\programs\\python\\python312\\lib\\site-packages (from pandas) (2024.1)\n",
      "Requirement already satisfied: contourpy>=1.0.1 in c:\\users\\fajnk\\appdata\\local\\programs\\python\\python312\\lib\\site-packages (from matplotlib!=3.6.1,>=3.4->seaborn) (1.2.0)\n",
      "Requirement already satisfied: cycler>=0.10 in c:\\users\\fajnk\\appdata\\local\\programs\\python\\python312\\lib\\site-packages (from matplotlib!=3.6.1,>=3.4->seaborn) (0.12.1)\n",
      "Requirement already satisfied: fonttools>=4.22.0 in c:\\users\\fajnk\\appdata\\local\\programs\\python\\python312\\lib\\site-packages (from matplotlib!=3.6.1,>=3.4->seaborn) (4.50.0)\n",
      "Requirement already satisfied: kiwisolver>=1.3.1 in c:\\users\\fajnk\\appdata\\local\\programs\\python\\python312\\lib\\site-packages (from matplotlib!=3.6.1,>=3.4->seaborn) (1.4.5)\n",
      "Requirement already satisfied: packaging>=20.0 in c:\\users\\fajnk\\appdata\\roaming\\python\\python312\\site-packages (from matplotlib!=3.6.1,>=3.4->seaborn) (23.2)\n",
      "Requirement already satisfied: pillow>=8 in c:\\users\\fajnk\\appdata\\local\\programs\\python\\python312\\lib\\site-packages (from matplotlib!=3.6.1,>=3.4->seaborn) (10.2.0)\n",
      "Requirement already satisfied: pyparsing>=2.3.1 in c:\\users\\fajnk\\appdata\\local\\programs\\python\\python312\\lib\\site-packages (from matplotlib!=3.6.1,>=3.4->seaborn) (3.1.2)\n",
      "Requirement already satisfied: six>=1.5 in c:\\users\\fajnk\\appdata\\roaming\\python\\python312\\site-packages (from python-dateutil>=2.8.2->pandas) (1.16.0)\n"
     ]
    },
    {
     "name": "stderr",
     "output_type": "stream",
     "text": [
      "\n",
      "[notice] A new release of pip is available: 23.2.1 -> 24.0\n",
      "[notice] To update, run: python.exe -m pip install --upgrade pip\n"
     ]
    }
   ],
   "source": [
    "#Library to install\n",
    "%pip install networkx seaborn pandas numpy gurobipy"
   ]
  },
  {
   "cell_type": "code",
   "execution_count": 4,
   "metadata": {},
   "outputs": [],
   "source": [
    "#imports\n",
    "import requests\n",
    "import pandas as pd   \n",
    "import matplotlib.pyplot as plt  \n",
    "import seaborn as sns  \n",
    "import warnings\n",
    "import gurobipy as gp\n",
    "warnings.filterwarnings(\"ignore\")"
   ]
  },
  {
   "cell_type": "code",
   "execution_count": null,
   "metadata": {},
   "outputs": [],
   "source": [
    "# Separation"
   ]
  },
  {
   "cell_type": "code",
   "execution_count": null,
   "metadata": {},
   "outputs": [],
   "source": [
    "import gurobipy as gp\n",
    "from gurobipy import GRB\n",
    "\n",
    "# Create the model\n",
    "model = gp.Model(\"generation-schedule-optimization\")\n",
    "\n",
    "# Define the variables\n",
    "z = model.addVars(P, H, name=\"z\", lb=0)  # power generated in each plant for each hour\n",
    "u = model.addVars(P, H, name=\"u\", vtype=GRB.BINARY, lb=0)  # is the plant on? for each plant and hour\n",
    "v = model.addVars(P, H, name=\"v\", vtype=GRB.BINARY)  # start up the plant? for each plant and hour\n",
    "w = model.addVars(P, H, name=\"w\", vtype=GRB.BINARY)  # shut down the plant? for each plant and hour\n",
    "\n",
    "# Define the cost components\n",
    "fuel_cost = gp.quicksum(f[i] * z[i, h] for i in P for h in H)\n",
    "health_cost = gp.quicksum(a[i, h] * z[i, h] for i in P for h in H)\n",
    "operating_cost = gp.quicksum(o[i] * u[i, h] for i in P for h in H)\n",
    "startup_cost = gp.quicksum(s[i] * v[i, h] for i in P for h in H)\n",
    "shutdown_cost = gp.quicksum(t[i] * w[i, h] for i in P for h in H)\n",
    "\n",
    "# Set the objective function by summing all the costs\n",
    "total_cost = fuel_cost + health_cost + operating_cost + startup_cost + shutdown_cost\n",
    "model.setObjective(total_cost, sense=GRB.MINIMIZE)\n",
    "\n",
    "# Define the constraints\n",
    "# Demand satisfaction constraint\n",
    "model.addConstrs((gp.quicksum(z[i, h] for i in P) == d[h]) for h in H)\n",
    "\n",
    "# Minimum and maximum generation limits\n",
    "model.addConstrs((z[i, h] >= m[i] * c[i] * u[i, h]) for i in P for h in H)\n",
    "model.addConstrs((z[i, h] <= c[i] * u[i, h]) for i in P for h in H)\n",
    "\n",
    "# Keep nuclear power plants always on\n",
    "model.addConstrs((z[i, h] >= m[i] * c[i]) for i in P_N for h in H)\n",
    "\n",
    "# Ramp-up and ramp-down constraints\n",
    "model.addConstrs((z[i, h] - z[i, h-1] >= -r[i] * c[i]) for i in P for h in H if h > 1)\n",
    "model.addConstrs((z[i, h] - z[i, h-1] <= r[i] * c[i]) for i in P for h in H if h > 1)\n",
    "\n",
    "# Startup and shutdown logic constraints\n",
    "model.addConstrs((v[i, h] <= u[i, h]) for i in P for h in H)\n",
    "model.addConstrs((w[i, h] <= 1 - u[i, h]) for i in P for h in H)\n",
    "model.addConstrs((v[i, h] - w[i, h] == u[i, h] - u[i, h-1]) for i in P for h in H if h > 1)\n",
    "\n",
    "# Solve the model\n",
    "model.optimize()\n"
   ]
  }
 ],
 "metadata": {
  "kernelspec": {
   "display_name": "Python 3",
   "language": "python",
   "name": "python3"
  },
  "language_info": {
   "codemirror_mode": {
    "name": "ipython",
    "version": 3
   },
   "file_extension": ".py",
   "mimetype": "text/x-python",
   "name": "python",
   "nbconvert_exporter": "python",
   "pygments_lexer": "ipython3",
   "version": "3.12.0"
  }
 },
 "nbformat": 4,
 "nbformat_minor": 2
}
